{
 "cells": [
  {
   "cell_type": "code",
   "execution_count": 1,
   "id": "df987821-698f-4702-944e-9ffe1af8c7d8",
   "metadata": {},
   "outputs": [],
   "source": [
    "import pandas as pd\n",
    "import numpy as np\n",
    "import datetime as dt\n",
    "import seaborn as sns\n",
    "import matplotlib.pyplot as plt\n",
    "from scipy import stats\n",
    "from scipy.stats import pearsonr\n"
   ]
  },
  {
   "cell_type": "markdown",
   "id": "d07242ab-c79a-4ff8-8a01-bb7c8ae7f801",
   "metadata": {},
   "source": [
    "## BUSINESS PROBLEM-1"
   ]
  },
  {
   "cell_type": "markdown",
   "id": "17eab929-f573-42dc-b58a-cb5b1379f2dc",
   "metadata": {},
   "source": [
    "### a. Intrest rate is varied for different loan amounts (Less intrest charged for high loan amounts)"
   ]
  },
  {
   "cell_type": "code",
   "execution_count": 2,
   "id": "6876e381-637a-4971-8b54-b91b0c9c6e8f",
   "metadata": {},
   "outputs": [],
   "source": [
    "Loan_data = pd.read_csv(\"LoansData.csv\")"
   ]
  },
  {
   "cell_type": "code",
   "execution_count": 3,
   "id": "7d861bae-6d97-4818-b871-c76c06e9a4d2",
   "metadata": {},
   "outputs": [],
   "source": [
    "cut_labels = [\"lower\",\"higher\"]\n",
    "Loan_data[\"size.of.loan\"] = pd.qcut(Loan_data[\"Amount.Requested\"], q = [0,.5,1], labels = cut_labels)"
   ]
  },
  {
   "cell_type": "markdown",
   "id": "07b244be-fb57-484b-a35f-102feaf6a670",
   "metadata": {},
   "source": [
    "    Null Hypothesis: The interest rate charged by Lending Club is the same for all loan amounts, regardless of whether the loan amount is high or low.\n",
    "\n",
    "    Alternative Hypothesis: The interest rate charged by Lending Club varies depending on the loan amount, with lower interest rates charged for higher loan amounts.\n",
    " Set the significance level:\n",
    "Let's set the significance level at 0.05, meaning we are 95% confident in our results.\n"
   ]
  },
  {
   "cell_type": "code",
   "execution_count": 4,
   "id": "0e784805-a442-4fac-8777-f060e6a02754",
   "metadata": {},
   "outputs": [],
   "source": [
    "Loan_data[\"Interest.Rate\"] = Loan_data[\"Interest.Rate\"].str.replace(\"%\",\" \" )\n",
    "Loan_data[\"Interest.Rate\"] = Loan_data[\"Interest.Rate\"].astype(float)\n",
    "Loan_data[Loan_data[\"Interest.Rate\"].isna()]\n",
    "Loan_data[\"Interest.Rate\"].fillna(0,inplace = True)"
   ]
  },
  {
   "cell_type": "code",
   "execution_count": 5,
   "id": "ec394748-05ba-4120-b305-6d8f237cc92a",
   "metadata": {},
   "outputs": [],
   "source": [
    "lower_amount = Loan_data[Loan_data[\"size.of.loan\"] == \"lower\"]\n",
    "higher_amount = Loan_data[Loan_data[\"size.of.loan\"] == \"higher\"]"
   ]
  },
  {
   "cell_type": "code",
   "execution_count": 147,
   "id": "5e7588d7-0961-4acf-b4f6-466af014270e",
   "metadata": {},
   "outputs": [
    {
     "name": "stdout",
     "output_type": "stream",
     "text": [
      "t value = 12.65880512731498\n",
      "p value = 1.334989150670319e-35\n",
      "we reject the null hypothesis\n"
     ]
    }
   ],
   "source": [
    "t_value,p_value = stats.ttest_ind(higher_amount[\"Interest.Rate\"],lower_amount[\"Interest.Rate\"],equal_var=False)\n",
    "print('t value =', t_value)\n",
    "print('p value =', p_value)\n",
    "if p_value < 0.05:\n",
    "    print(\"we reject the null hypothesis\")\n",
    "else:\n",
    "    print(\"we accept null hypothesis\")"
   ]
  },
  {
   "cell_type": "markdown",
   "id": "d9a3834d-ac2f-456b-918c-8a56e4edb698",
   "metadata": {},
   "source": [
    "If the p-value is less than the significance level (0.05), we reject the null hypothesis, p value is almost equal to zero. so we strongly reject the the null hypothesis, so the intrest rate are varierd for different loan amount"
   ]
  },
  {
   "cell_type": "markdown",
   "id": "022c8878-a03b-4d05-9fe2-861c6c15955b",
   "metadata": {},
   "source": [
    "### b. Loan length is directly effecting intrest rate"
   ]
  },
  {
   "cell_type": "code",
   "execution_count": null,
   "id": "8de7dfd3-1c40-4b74-aaee-c6d57c194434",
   "metadata": {},
   "outputs": [],
   "source": [
    "Loan_data[\"Loan.Length_in_num\"] = Loan_data[\"Loan.Length\"].str.replace(\"months\",\" \")\n",
    "Loan_data[\"Loan.Length_in_num\"] = Loan_data[\"Loan.Length_in_num\"].astype(int)\n"
   ]
  },
  {
   "cell_type": "markdown",
   "id": "a8fae3a1-7811-4321-85ad-6bddc52594af",
   "metadata": {},
   "source": [
    "    Null Hypothesis: There is no significant relationship between loan length and interest rate.\n",
    "\n",
    "    Alternative Hypothesis: There is a significant relationship between loan length and interest rate.\n",
    "    \n",
    "    Set the significance level: Let's set the significance level at 0.05, meaning we are 95% confident in our results."
   ]
  },
  {
   "cell_type": "code",
   "execution_count": null,
   "id": "179bb802-d06f-4f2e-880c-e5c02f296c0a",
   "metadata": {},
   "outputs": [],
   "source": [
    "interest_rate = Loan_data[\"Interest.Rate\"]\n",
    "loan_length = Loan_data[\"Loan.Length_in_num\"]\n",
    "\n",
    "# Compute the Pearson correlation coefficient and p-value\n",
    "corr_coeff, p_value = pearsonr(interest_rate, loan_length)\n",
    "\n",
    "# Interpret the results\n",
    "if p_value < 0.05:\n",
    "    print(\"There is a significant correlation between loan length and interest rate\")\n",
    "else:\n",
    "    print(\"There is not enough evidence to suggest a significant correlation between loan length and interest rate\")\n",
    "\n",
    "print('p value =', p_value)\n",
    "print('correlation =', corr_coeff)"
   ]
  },
  {
   "cell_type": "markdown",
   "id": "dec158f9-6025-41b9-9c48-4fd8ee8a2e0b",
   "metadata": {},
   "source": [
    "### c. Intrest rate varies for different purpose of loans"
   ]
  },
  {
   "cell_type": "markdown",
   "id": "13022bac-ec8f-49d9-bf3c-e6f43631d9ed",
   "metadata": {},
   "source": [
    "\n",
    "    Null hypothesis: The mean interest rate is the same for all loan purposes.\n",
    "    Alternative hypothesis: The mean interest rate is varies for different loan purpose.\n",
    "    Set the significance level: Let's set the significance level at 0.05, meaning we are 95% confident in our results."
   ]
  },
  {
   "cell_type": "code",
   "execution_count": null,
   "id": "9a472607-55df-483e-b916-e8cfa5e21760",
   "metadata": {},
   "outputs": [],
   "source": [
    "# Group the interest rate data by loan purpose\n",
    "loan_purpose_groups = Loan_data.groupby('Loan.Purpose')['Interest.Rate'].apply(list)\n",
    "\n",
    "# Perform ANOVA test\n",
    "f_value, p_value = stats.f_oneway(*loan_purpose_groups)\n",
    "\n",
    "print(\"F value:\", f_value)\n",
    "print(\"P value:\", p_value)\n",
    "\n",
    "# Interpret the results\n",
    "if p_value < 0.05:\n",
    "    print(\"Interest rate varies for different purposes of loans\")\n",
    "else:\n",
    "    print(\"Interest rate does not vary for different purposes of loans\")"
   ]
  },
  {
   "cell_type": "markdown",
   "id": "5d9309c8-1b57-4390-8a60-d2647bc7736a",
   "metadata": {},
   "source": [
    "## BUSINESS PROBLEM-2"
   ]
  },
  {
   "cell_type": "markdown",
   "id": "c7349f76-e89f-4c1c-b9a1-1d8e735774df",
   "metadata": {},
   "source": [
    "### a.  We would like to assess if there is any difference in the average price quotes provided by Mary and Barry.\n"
   ]
  },
  {
   "cell_type": "code",
   "execution_count": 9,
   "id": "4dcee5fc-cf17-4681-89bb-c1041149b492",
   "metadata": {},
   "outputs": [],
   "source": [
    "Price_Qoutes = pd.read_csv(\"Price_Quotes.csv\")"
   ]
  },
  {
   "cell_type": "markdown",
   "id": "72f2b9ba-f29d-4c7a-bfa9-18c6a9d3266f",
   "metadata": {},
   "source": [
    "    Null hypothesis : their is no difference in average price quotes provided by Mary and Bary\n",
    "    alternative  hypothesis : their is some difference in average price quotes provided by Mary and Bary\n",
    "    Set the significance level: Let's set the significance level at 0.05, meaning we are 95% confident in our results"
   ]
  },
  {
   "cell_type": "code",
   "execution_count": 10,
   "id": "7f101585-2e4b-47a5-8a6e-1881686cb840",
   "metadata": {},
   "outputs": [
    {
     "name": "stdout",
     "output_type": "stream",
     "text": [
      "0.17114226132118285\n",
      "1.4147436739281787\n",
      "there is no  difference in the average price quotes privides by Mary and Barry\n"
     ]
    }
   ],
   "source": [
    "# performing t test\n",
    "t_value , p_value = stats.ttest_ind(Price_Qoutes[\"Barry_Price\"],Price_Qoutes[\"Mary_Price\"])\n",
    "print(p_value)\n",
    "print(t_value)\n",
    "\n",
    "# Interpret the results\n",
    "if p_value < 0.05:\n",
    "    print(\"Reject null hypothesis, there is significance difference in the average price quotes privides by Mary and Barry\")\n",
    "else:\n",
    "    print( \"there is no  difference in the average price quotes privides by Mary and Barry\")"
   ]
  },
  {
   "cell_type": "markdown",
   "id": "0b3798b6-4a53-4047-af3a-bd9dd7874201",
   "metadata": {},
   "source": [
    "## BUSINESS PROBLEM-3"
   ]
  },
  {
   "cell_type": "code",
   "execution_count": 11,
   "id": "81bda95e-2469-4547-a62c-789e77909a02",
   "metadata": {},
   "outputs": [],
   "source": [
    "Treatment_Facility = pd.read_csv(\"Treatment_Facility.csv\")"
   ]
  },
  {
   "cell_type": "markdown",
   "id": "72c4c9d7-ba90-46a0-9970-aba25830bc1a",
   "metadata": {},
   "source": [
    "### Determine what effect, if any, the reengineering effort had on the  incidence behavioral problems and staff turnover. i.e To determine if the reengineering effort changed the critical incidence rate. Is there evidence that the critical incidence rate improved?"
   ]
  },
  {
   "cell_type": "markdown",
   "id": "12f3b0e4-c090-48e2-b5a5-a4ebcf5faec0",
   "metadata": {},
   "source": [
    "    Null hypothesis: The reengineering effort did not have any effect on the incidence of behavioral problems and staff turnover.\n",
    "\n",
    "    Alternative hypothesis: The reengineering effort had an effect on the incidence of behavioral problems and staff turnover, leading to an improvement in the critical incidence rate.\n",
    "\n",
    "\n",
    "\n"
   ]
  },
  {
   "cell_type": "code",
   "execution_count": 77,
   "id": "8b858c70-31f5-46d1-8c77-5c73ff534921",
   "metadata": {},
   "outputs": [
    {
     "name": "stdout",
     "output_type": "stream",
     "text": [
      "2.650105376271948\n",
      "0.12091989189884142\n",
      "\n",
      "\n",
      "The reengineering effort did not have any effect on the incidence of behavioral problems and staff turnover.\n"
     ]
    }
   ],
   "source": [
    "Treatment_Facility_prior = Treatment_Facility[Treatment_Facility[\"Reengineer\"] == \"Prior\"]\n",
    "Treatment_Facility_post = Treatment_Facility[Treatment_Facility[\"Reengineer\"] == \"Post\"]\n",
    "\n",
    "# performing test using one way anova\n",
    "f_value,p_value = stats.f_oneway(Treatment_Facility_prior[\"VAR5\"],Treatment_Facility_post[\"VAR5\"])\n",
    "print(f_value)\n",
    "print(p_value)\n",
    "print(\"\\n\")\n",
    "\n",
    "# Interpret the results\n",
    "if p_value < 0.05:\n",
    "    print(\"The reengineering effort had an effect on the incidence of behavioral problems and staff turnover, leading to an improvement in the critical incidence rate.\")\n",
    "else:\n",
    "    print(\"The reengineering effort did not have any effect on the incidence of behavioral problems and staff turnover.\")"
   ]
  },
  {
   "cell_type": "code",
   "execution_count": 69,
   "id": "d212401e-baad-4b13-a0d8-c2aea1912555",
   "metadata": {},
   "outputs": [
    {
     "data": {
      "text/html": [
       "<div>\n",
       "<style scoped>\n",
       "    .dataframe tbody tr th:only-of-type {\n",
       "        vertical-align: middle;\n",
       "    }\n",
       "\n",
       "    .dataframe tbody tr th {\n",
       "        vertical-align: top;\n",
       "    }\n",
       "\n",
       "    .dataframe thead th {\n",
       "        text-align: right;\n",
       "    }\n",
       "</style>\n",
       "<table border=\"1\" class=\"dataframe\">\n",
       "  <thead>\n",
       "    <tr style=\"text-align: right;\">\n",
       "      <th></th>\n",
       "      <th>Month</th>\n",
       "      <th>Reengineer</th>\n",
       "      <th>Employee_Turnover</th>\n",
       "      <th>VAR4</th>\n",
       "      <th>VAR5</th>\n",
       "    </tr>\n",
       "  </thead>\n",
       "  <tbody>\n",
       "    <tr>\n",
       "      <th>13</th>\n",
       "      <td>14</td>\n",
       "      <td>Post</td>\n",
       "      <td>26.6667</td>\n",
       "      <td>9.708738</td>\n",
       "      <td>29.126214</td>\n",
       "    </tr>\n",
       "    <tr>\n",
       "      <th>14</th>\n",
       "      <td>15</td>\n",
       "      <td>Post</td>\n",
       "      <td>17.9487</td>\n",
       "      <td>4.201681</td>\n",
       "      <td>21.008403</td>\n",
       "    </tr>\n",
       "    <tr>\n",
       "      <th>15</th>\n",
       "      <td>16</td>\n",
       "      <td>Post</td>\n",
       "      <td>12.8205</td>\n",
       "      <td>13.043478</td>\n",
       "      <td>34.782609</td>\n",
       "    </tr>\n",
       "    <tr>\n",
       "      <th>16</th>\n",
       "      <td>17</td>\n",
       "      <td>Post</td>\n",
       "      <td>15.7895</td>\n",
       "      <td>9.950249</td>\n",
       "      <td>19.900498</td>\n",
       "    </tr>\n",
       "    <tr>\n",
       "      <th>17</th>\n",
       "      <td>18</td>\n",
       "      <td>Post</td>\n",
       "      <td>0.0000</td>\n",
       "      <td>9.950249</td>\n",
       "      <td>9.950249</td>\n",
       "    </tr>\n",
       "    <tr>\n",
       "      <th>18</th>\n",
       "      <td>19</td>\n",
       "      <td>Post</td>\n",
       "      <td>30.7692</td>\n",
       "      <td>8.510638</td>\n",
       "      <td>25.531915</td>\n",
       "    </tr>\n",
       "    <tr>\n",
       "      <th>19</th>\n",
       "      <td>20</td>\n",
       "      <td>Post</td>\n",
       "      <td>26.8293</td>\n",
       "      <td>9.259259</td>\n",
       "      <td>23.148148</td>\n",
       "    </tr>\n",
       "  </tbody>\n",
       "</table>\n",
       "</div>"
      ],
      "text/plain": [
       "    Month Reengineer  Employee_Turnover       VAR4       VAR5\n",
       "13     14       Post            26.6667   9.708738  29.126214\n",
       "14     15       Post            17.9487   4.201681  21.008403\n",
       "15     16       Post            12.8205  13.043478  34.782609\n",
       "16     17       Post            15.7895   9.950249  19.900498\n",
       "17     18       Post             0.0000   9.950249   9.950249\n",
       "18     19       Post            30.7692   8.510638  25.531915\n",
       "19     20       Post            26.8293   9.259259  23.148148"
      ]
     },
     "execution_count": 69,
     "metadata": {},
     "output_type": "execute_result"
    }
   ],
   "source": [
    "Treatment_Facility_post"
   ]
  },
  {
   "cell_type": "markdown",
   "id": "adb9b5c5-084c-429f-bbe4-0b44b824e519",
   "metadata": {},
   "source": [
    "## BUSINESS PROBLEM-4"
   ]
  },
  {
   "cell_type": "markdown",
   "id": "a0af77d0-8b1a-4b6f-89e3-2e195de4a041",
   "metadata": {},
   "source": [
    "### We will focus on the prioritization system. If the system is working, then high priority jobs, on average, ###should be completed more quickly than medium priority jobs, and medium priority jobs should be completed more quickly than low priority jobs. Use the data provided to determine whether thisis, in fact, occurring."
   ]
  },
  {
   "cell_type": "code",
   "execution_count": 13,
   "id": "fe8da773-74fa-4516-98f7-38c6b2b80d08",
   "metadata": {},
   "outputs": [],
   "source": [
    "Priority_Assessment = pd.read_csv(\"Priority_Assessment.csv\")\n",
    "high = Priority_Assessment[Priority_Assessment[\"Priority\"] == \"High\"][\"Days\"]\n",
    "medium = Priority_Assessment[Priority_Assessment[\"Priority\"] == \"Medium\"][\"Days\"]\n",
    "low = Priority_Assessment[Priority_Assessment[\"Priority\"] == \"Low\"][\"Days\"]\n"
   ]
  },
  {
   "cell_type": "markdown",
   "id": "008f8cad-aa91-4b6c-9e12-6fe92d517438",
   "metadata": {},
   "source": [
    "    Null hypothesis: There is no significant difference between the average completion times of high, medium, and low priority jobs.\n",
    "\n",
    "    Alternative hypothesis: There is a significant difference between the average completion times of high, medium, and low priority jobs."
   ]
  },
  {
   "cell_type": "code",
   "execution_count": 14,
   "id": "78a110fb-3850-4cbf-9856-f7d73e0e2d9c",
   "metadata": {},
   "outputs": [
    {
     "name": "stdout",
     "output_type": "stream",
     "text": [
      "1.812311010076072\n",
      "0.16411459461716182\n",
      "\n",
      "\n",
      "There is a significant difference between the average completion times of high, medium, and low priority jobs.\n"
     ]
    }
   ],
   "source": [
    "# performing anova\n",
    "t_value, p_value = stats.f_oneway(high,medium,low)\n",
    "\n",
    "print(t_value)\n",
    "print(p_value)\n",
    "print(\"\\n\")\n",
    "\n",
    "# Interpret the results\n",
    "if p_value < 0.05:\n",
    "    print(\"Reject null hypothesis,There is a significant difference between the average completion times of high, medium, and low priority jobs.\")\n",
    "else:\n",
    "    print( \"There is a significant difference between the average completion times of high, medium, and low priority jobs.\")"
   ]
  },
  {
   "cell_type": "markdown",
   "id": "47865dc9-33ca-41bf-89c0-1d67ad0d0c16",
   "metadata": {},
   "source": [
    "## BUSINESS PROBLEM-5"
   ]
  },
  {
   "cell_type": "code",
   "execution_count": 15,
   "id": "fc63c663-ffe8-4fc4-8534-3f26abff22f6",
   "metadata": {},
   "outputs": [],
   "source": [
    "Films = pd.read_csv(\"Films.csv\")"
   ]
  },
  {
   "cell_type": "markdown",
   "id": "6f88f600-a069-4ad6-ad77-a6316b014233",
   "metadata": {},
   "source": [
    "###  What isthe overall level of customer satisfaction?"
   ]
  },
  {
   "cell_type": "code",
   "execution_count": 19,
   "id": "90bdee6a-3f8b-46ba-a15d-7d57b3ba245b",
   "metadata": {},
   "outputs": [
    {
     "name": "stdout",
     "output_type": "stream",
     "text": [
      "Sample mean:  1.6189024390243902\n",
      "Margin of error:  0.07464338860431029\n",
      "95% confidence interval: [1.54, 1.69] \n"
     ]
    }
   ],
   "source": [
    "# Calculate sample mean and standard deviation\n",
    "mean_statisfactio = Films[\"Overall\"].mean()\n",
    "std_satisfaction = Films[\"Overall\"].std()\n",
    "\n",
    "# Determine sample size and confidence level\n",
    "n = len(Films[\"Overall\"])\n",
    "conf_level = .95\n",
    "\n",
    "# Calculate t-value and margin of error\n",
    "t_value = stats.t.ppf((1 + conf_level) / 2, n - 1)\n",
    "ME = t_value * (std_satisfaction / np.sqrt(n))\n",
    "\n",
    "# Calculate confidence interval\n",
    "lower_bound = mean_statisfactio - ME\n",
    "upper_bound = mean_statisfactio + ME\n",
    "\n",
    "# Print results\n",
    "print(\"Sample mean: \", mean_statisfactio)\n",
    "print(\"Margin of error: \", ME)\n",
    "print(f\"95% confidence interval: {[round(lower_bound,2),round(upper_bound,2)]} \")\n"
   ]
  },
  {
   "cell_type": "markdown",
   "id": "a1db2193-f4b3-496c-8315-82b407476b04",
   "metadata": {},
   "source": [
    "### What factors are linked to satisfaction?"
   ]
  },
  {
   "cell_type": "code",
   "execution_count": 20,
   "id": "6437f307-6ac9-42ad-9655-221412f8346c",
   "metadata": {},
   "outputs": [
    {
     "name": "stdout",
     "output_type": "stream",
     "text": [
      "           Sinage   Parking     Clean   Overall\n",
      "Sinage   1.000000  0.470322  0.349163  0.382881\n",
      "Parking  0.470322  1.000000  0.444368  0.516585\n",
      "Clean    0.349163  0.444368  1.000000  0.349412\n",
      "Overall  0.382881  0.516585  0.349412  1.000000\n"
     ]
    }
   ],
   "source": [
    "Films\n",
    "correlation = Films[[\"Sinage\", \"Parking\", \"Clean\", \"Overall\"]].corr()\n",
    "print(correlation)\n"
   ]
  },
  {
   "cell_type": "markdown",
   "id": "80b931c6-ba10-47ef-bccf-f61137a354f7",
   "metadata": {},
   "source": [
    "###  What is the demographic profile of Film on the Rocks patrons?"
   ]
  },
  {
   "cell_type": "code",
   "execution_count": 22,
   "id": "c742a6c8-8192-4158-87a5-3efde71a46ab",
   "metadata": {},
   "outputs": [],
   "source": [
    "Films[\"Gender\"].replace({\"Female\": 2, \"Male\": 1}, inplace=True)\n",
    "Films[\"Marital_Status\"].replace({\"Married\": 1 ,\"Single\" : 2 },inplace=True)\n",
    "Films[\"Marital_Status\"].replace({\"Slngle\" : 2 },inplace=True)\n",
    "Films.dropna(inplace = True)\n",
    "Films[\"Gender\"] = Films[\"Gender\"].astype(int)\n",
    "Films[\"Marital_Status\"] = Films[\"Marital_Status\"].astype(int)"
   ]
  },
  {
   "cell_type": "code",
   "execution_count": 64,
   "id": "966f5347-ac88-40a6-b1bc-7269aa6cde50",
   "metadata": {},
   "outputs": [
    {
     "name": "stdout",
     "output_type": "stream",
     "text": [
      "Demographic profile percentage of film on the Rocks patrons \n",
      " gender          Male                 35.22\n",
      "                Female               64.78\n",
      "Marital_Status  married              30.23\n",
      "                single               69.77\n",
      "Age             1-12                  7.31\n",
      "                13-30                54.49\n",
      "                31-60                35.88\n",
      "                60+                   2.33\n",
      "Income          Less than $50,000    44.85\n",
      "                $50-$100,000         26.58\n",
      "                $100,000+            28.57\n",
      "dtype: float64\n"
     ]
    }
   ],
   "source": [
    "gender = round(((Films.groupby(\"Gender\")[\"Gender\"].count())/Films[\"Gender\"].count())*100,2)\n",
    "Marital_Status = round(((Films.groupby(\"Marital_Status\")[\"Marital_Status\"].count())/Films[\"Marital_Status\"].count())*100,2)\n",
    "Age = round(((Films.groupby(\"Age\")[\"Age\"].count())/Films[\"Age\"].count())*100,2)\n",
    "Income = round(((Films.groupby(\"Income\")[\"Income\"].count())/Films[\"Income\"].count())*100,2)\n",
    "gender = gender.rename(index={1: 'Male', 2: 'Female'})\n",
    "Marital_Status = Marital_Status.rename(index={1: 'married', 2: 'single'})\n",
    "Age = Age.rename(index={1: '1-12', 2: '13-30',3 :'31-60', 4 : '60+'})\n",
    "Income = Income.rename(index={1: 'Less than $50,000', 2: '$50-$100,000',3 :'$100,000+'})\n",
    "demographics = pd.concat([gender,Marital_Status, Age, Income], keys = [\"gender\",\"Marital_Status\", \"Age\", \"Income\"], axis=0)\n",
    "print(f\"Demographic profile percentage of film on the Rocks patrons \\n {demographics}\")\n",
    "\n"
   ]
  },
  {
   "cell_type": "markdown",
   "id": "e14ee3c8-00e1-465f-ae7a-2b59bc82b143",
   "metadata": {},
   "source": [
    "### In what media outlet(s) should the film series be advertised?\n"
   ]
  },
  {
   "cell_type": "code",
   "execution_count": 144,
   "id": "6e4b932d-d0f7-44c4-826b-6107c9ab571d",
   "metadata": {},
   "outputs": [
    {
     "data": {
      "text/html": [
       "<div>\n",
       "<style scoped>\n",
       "    .dataframe tbody tr th:only-of-type {\n",
       "        vertical-align: middle;\n",
       "    }\n",
       "\n",
       "    .dataframe tbody tr th {\n",
       "        vertical-align: top;\n",
       "    }\n",
       "\n",
       "    .dataframe thead th {\n",
       "        text-align: right;\n",
       "    }\n",
       "</style>\n",
       "<table border=\"1\" class=\"dataframe\">\n",
       "  <thead>\n",
       "    <tr style=\"text-align: right;\">\n",
       "      <th></th>\n",
       "      <th>count</th>\n",
       "    </tr>\n",
       "  </thead>\n",
       "  <tbody>\n",
       "    <tr>\n",
       "      <th>word of mouth</th>\n",
       "      <td>218</td>\n",
       "    </tr>\n",
       "    <tr>\n",
       "      <th>website</th>\n",
       "      <td>42</td>\n",
       "    </tr>\n",
       "    <tr>\n",
       "      <th>television</th>\n",
       "      <td>20</td>\n",
       "    </tr>\n",
       "    <tr>\n",
       "      <th>radio</th>\n",
       "      <td>15</td>\n",
       "    </tr>\n",
       "    <tr>\n",
       "      <th>newspaper</th>\n",
       "      <td>13</td>\n",
       "    </tr>\n",
       "  </tbody>\n",
       "</table>\n",
       "</div>"
      ],
      "text/plain": [
       "               count\n",
       "word of mouth    218\n",
       "website           42\n",
       "television        20\n",
       "radio             15\n",
       "newspaper         13"
      ]
     },
     "execution_count": 144,
     "metadata": {},
     "output_type": "execute_result"
    }
   ],
   "source": [
    "counts = {}\n",
    "for j in range(1, 6):\n",
    "    count = 0\n",
    "    for i in range(len(Films['Hear_About'])):\n",
    "        if str(j) in Films['Hear_About'].iloc[i]:\n",
    "            count += 1\n",
    "    counts[j] = count\n",
    "\n",
    "media_counts = pd.DataFrame.from_dict(counts, orient='index', columns=['count'])\n",
    "media_counts.sort_values(ascending = False,by = \"count\",inplace = True)\n",
    "media_counts = media_counts.rename(index = { 1 : \"television\", 2 : \"newspaper\", 3 : \"radio\", 4 : \"website\", 5 : \"word of mouth\"})\n",
    "media_counts"
   ]
  },
  {
   "cell_type": "markdown",
   "id": "c022c2bc-f199-4831-bf67-f43121e3a1fd",
   "metadata": {},
   "source": [
    "so through word of mouth most of Films heared about the show, and second most is website , so its better to advertise in these, and least heared about is newspaper, so its better to avoid it. no other demographic detail is related to it"
   ]
  }
 ],
 "metadata": {
  "kernelspec": {
   "display_name": "Python 3 (ipykernel)",
   "language": "python",
   "name": "python3"
  },
  "language_info": {
   "codemirror_mode": {
    "name": "ipython",
    "version": 3
   },
   "file_extension": ".py",
   "mimetype": "text/x-python",
   "name": "python",
   "nbconvert_exporter": "python",
   "pygments_lexer": "ipython3",
   "version": "3.9.13"
  }
 },
 "nbformat": 4,
 "nbformat_minor": 5
}
